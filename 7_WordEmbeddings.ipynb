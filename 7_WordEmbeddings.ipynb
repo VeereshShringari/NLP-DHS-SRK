{
  "nbformat": 4,
  "nbformat_minor": 0,
  "metadata": {
    "colab": {
      "name": "7_WordEmbeddings",
      "provenance": [],
      "collapsed_sections": [
        "rX4faUZQfI4O",
        "nV3EwcD2fRQ8",
        "oj4K_0mCfcyV",
        "R-JK5VaOfuph",
        "9rRO4u6pgRd_"
      ],
      "include_colab_link": true
    },
    "kernelspec": {
      "name": "python3",
      "display_name": "Python 3"
    }
  },
  "cells": [
    {
      "cell_type": "markdown",
      "metadata": {
        "id": "view-in-github",
        "colab_type": "text"
      },
      "source": [
        "<a href=\"https://colab.research.google.com/github/VeereshShringari/NLP-DHS-SRK/blob/master/7_WordEmbeddings.ipynb\" target=\"_parent\"><img src=\"https://colab.research.google.com/assets/colab-badge.svg\" alt=\"Open In Colab\"/></a>"
      ]
    },
    {
      "cell_type": "markdown",
      "metadata": {
        "id": "rX4faUZQfI4O",
        "colab_type": "text"
      },
      "source": [
        "### Custom Word Embeddings"
      ]
    },
    {
      "cell_type": "code",
      "metadata": {
        "id": "PpXstMaDP95P",
        "colab_type": "code",
        "outputId": "58cb7947-d918-4c18-ab4f-4fa75ba72a2c",
        "colab": {
          "base_uri": "https://localhost:8080/",
          "height": 122
        }
      },
      "source": [
        "from google.colab import drive\n",
        "drive.mount('/content/drive')"
      ],
      "execution_count": 0,
      "outputs": [
        {
          "output_type": "stream",
          "text": [
            "Go to this URL in a browser: https://accounts.google.com/o/oauth2/auth?client_id=947318989803-6bn6qk8qdgf4n4g3pfee6491hc0brc4i.apps.googleusercontent.com&redirect_uri=urn%3aietf%3awg%3aoauth%3a2.0%3aoob&response_type=code&scope=email%20https%3a%2f%2fwww.googleapis.com%2fauth%2fdocs.test%20https%3a%2f%2fwww.googleapis.com%2fauth%2fdrive%20https%3a%2f%2fwww.googleapis.com%2fauth%2fdrive.photos.readonly%20https%3a%2f%2fwww.googleapis.com%2fauth%2fpeopleapi.readonly\n",
            "\n",
            "Enter your authorization code:\n",
            "··········\n",
            "Mounted at /content/drive\n"
          ],
          "name": "stdout"
        }
      ]
    },
    {
      "cell_type": "code",
      "metadata": {
        "id": "fnDgmYyXbEYA",
        "colab_type": "code",
        "colab": {}
      },
      "source": [
        "data_path = \"/content/drive/My Drive/DHS2019_Workshop/Disaster/\"\n",
        "# Please enter the file name\n",
        "file_name = data_path + \"socialmedia_disaster_tweets.csv\"\n",
        "# Please enter the name of the text column\n",
        "col_name = \"text\""
      ],
      "execution_count": 0,
      "outputs": []
    },
    {
      "cell_type": "markdown",
      "metadata": {
        "id": "nV3EwcD2fRQ8",
        "colab_type": "text"
      },
      "source": [
        "### Installing & Importing H2O"
      ]
    },
    {
      "cell_type": "code",
      "metadata": {
        "id": "hjonwSSed03f",
        "colab_type": "code",
        "outputId": "860350e3-4346-4eef-9bb0-5b1a9d9f6c04",
        "colab": {
          "base_uri": "https://localhost:8080/",
          "height": 340
        }
      },
      "source": [
        "!pip install h2o"
      ],
      "execution_count": 0,
      "outputs": [
        {
          "output_type": "stream",
          "text": [
            "Collecting h2o\n",
            "\u001b[?25l  Downloading https://files.pythonhosted.org/packages/d7/8f/7c480e71bf8b632cfa7e6b2bafa0ae85a5730c8f987fb5a49d4f2d2d2a1b/h2o-3.26.0.10.tar.gz (123.7MB)\n",
            "\u001b[K     |████████████████████████████████| 123.7MB 37kB/s \n",
            "\u001b[?25hRequirement already satisfied: requests in /usr/local/lib/python3.6/dist-packages (from h2o) (2.21.0)\n",
            "Requirement already satisfied: tabulate in /usr/local/lib/python3.6/dist-packages (from h2o) (0.8.5)\n",
            "Requirement already satisfied: future in /usr/local/lib/python3.6/dist-packages (from h2o) (0.16.0)\n",
            "Collecting colorama>=0.3.8\n",
            "  Downloading https://files.pythonhosted.org/packages/4f/a6/728666f39bfff1719fc94c481890b2106837da9318031f71a8424b662e12/colorama-0.4.1-py2.py3-none-any.whl\n",
            "Requirement already satisfied: urllib3<1.25,>=1.21.1 in /usr/local/lib/python3.6/dist-packages (from requests->h2o) (1.24.3)\n",
            "Requirement already satisfied: idna<2.9,>=2.5 in /usr/local/lib/python3.6/dist-packages (from requests->h2o) (2.8)\n",
            "Requirement already satisfied: chardet<3.1.0,>=3.0.2 in /usr/local/lib/python3.6/dist-packages (from requests->h2o) (3.0.4)\n",
            "Requirement already satisfied: certifi>=2017.4.17 in /usr/local/lib/python3.6/dist-packages (from requests->h2o) (2019.9.11)\n",
            "Building wheels for collected packages: h2o\n",
            "  Building wheel for h2o (setup.py) ... \u001b[?25l\u001b[?25hdone\n",
            "  Created wheel for h2o: filename=h2o-3.26.0.10-py2.py3-none-any.whl size=123719583 sha256=fce319e47bf16d39460a45784d99c1f041d2629c2f1c03aac9d509ed6913b5e3\n",
            "  Stored in directory: /root/.cache/pip/wheels/7d/09/bc/23eaa75a5948deb1d6c88d9ee3a20f94bac7d9df6c55ec8aa3\n",
            "Successfully built h2o\n",
            "Installing collected packages: colorama, h2o\n",
            "Successfully installed colorama-0.4.1 h2o-3.26.0.10\n"
          ],
          "name": "stdout"
        }
      ]
    },
    {
      "cell_type": "code",
      "metadata": {
        "id": "4gbPQaLaduJG",
        "colab_type": "code",
        "outputId": "d2c69bee-f5a6-4a1b-eff0-15851ec9d023",
        "colab": {
          "base_uri": "https://localhost:8080/",
          "height": 528
        }
      },
      "source": [
        "import h2o\n",
        "h2o.init()\n",
        "from h2o.estimators.word2vec import H2OWord2vecEstimator"
      ],
      "execution_count": 0,
      "outputs": [
        {
          "output_type": "stream",
          "text": [
            "Checking whether there is an H2O instance running at http://localhost:54321 ..... not found.\n",
            "Attempting to start a local H2O server...\n",
            "  Java Version: openjdk version \"11.0.4\" 2019-07-16; OpenJDK Runtime Environment (build 11.0.4+11-post-Ubuntu-1ubuntu218.04.3); OpenJDK 64-Bit Server VM (build 11.0.4+11-post-Ubuntu-1ubuntu218.04.3, mixed mode, sharing)\n",
            "  Starting server from /usr/local/lib/python3.6/dist-packages/h2o/backend/bin/h2o.jar\n",
            "  Ice root: /tmp/tmp2275fl4r\n",
            "  JVM stdout: /tmp/tmp2275fl4r/h2o_unknownUser_started_from_python.out\n",
            "  JVM stderr: /tmp/tmp2275fl4r/h2o_unknownUser_started_from_python.err\n",
            "  Server is running at http://127.0.0.1:54321\n",
            "Connecting to H2O server at http://127.0.0.1:54321 ... successful.\n"
          ],
          "name": "stdout"
        },
        {
          "output_type": "display_data",
          "data": {
            "text/html": [
              "<div style=\"overflow:auto\"><table style=\"width:50%\"><tr><td>H2O cluster uptime:</td>\n",
              "<td>02 secs</td></tr>\n",
              "<tr><td>H2O cluster timezone:</td>\n",
              "<td>Etc/UTC</td></tr>\n",
              "<tr><td>H2O data parsing timezone:</td>\n",
              "<td>UTC</td></tr>\n",
              "<tr><td>H2O cluster version:</td>\n",
              "<td>3.26.0.10</td></tr>\n",
              "<tr><td>H2O cluster version age:</td>\n",
              "<td>7 days, 16 hours and 37 minutes </td></tr>\n",
              "<tr><td>H2O cluster name:</td>\n",
              "<td>H2O_from_python_unknownUser_yi088r</td></tr>\n",
              "<tr><td>H2O cluster total nodes:</td>\n",
              "<td>1</td></tr>\n",
              "<tr><td>H2O cluster free memory:</td>\n",
              "<td>3 Gb</td></tr>\n",
              "<tr><td>H2O cluster total cores:</td>\n",
              "<td>2</td></tr>\n",
              "<tr><td>H2O cluster allowed cores:</td>\n",
              "<td>2</td></tr>\n",
              "<tr><td>H2O cluster status:</td>\n",
              "<td>accepting new members, healthy</td></tr>\n",
              "<tr><td>H2O connection url:</td>\n",
              "<td>http://127.0.0.1:54321</td></tr>\n",
              "<tr><td>H2O connection proxy:</td>\n",
              "<td>{'http': None, 'https': None}</td></tr>\n",
              "<tr><td>H2O internal security:</td>\n",
              "<td>False</td></tr>\n",
              "<tr><td>H2O API Extensions:</td>\n",
              "<td>Amazon S3, XGBoost, Algos, AutoML, Core V3, TargetEncoder, Core V4</td></tr>\n",
              "<tr><td>Python version:</td>\n",
              "<td>3.6.8 final</td></tr></table></div>"
            ],
            "text/plain": [
              "--------------------------  ------------------------------------------------------------------\n",
              "H2O cluster uptime:         02 secs\n",
              "H2O cluster timezone:       Etc/UTC\n",
              "H2O data parsing timezone:  UTC\n",
              "H2O cluster version:        3.26.0.10\n",
              "H2O cluster version age:    7 days, 16 hours and 37 minutes\n",
              "H2O cluster name:           H2O_from_python_unknownUser_yi088r\n",
              "H2O cluster total nodes:    1\n",
              "H2O cluster free memory:    3 Gb\n",
              "H2O cluster total cores:    2\n",
              "H2O cluster allowed cores:  2\n",
              "H2O cluster status:         accepting new members, healthy\n",
              "H2O connection url:         http://127.0.0.1:54321\n",
              "H2O connection proxy:       {'http': None, 'https': None}\n",
              "H2O internal security:      False\n",
              "H2O API Extensions:         Amazon S3, XGBoost, Algos, AutoML, Core V3, TargetEncoder, Core V4\n",
              "Python version:             3.6.8 final\n",
              "--------------------------  ------------------------------------------------------------------"
            ]
          },
          "metadata": {
            "tags": []
          }
        }
      ]
    },
    {
      "cell_type": "markdown",
      "metadata": {
        "id": "oj4K_0mCfcyV",
        "colab_type": "text"
      },
      "source": [
        "### Data Preparation"
      ]
    },
    {
      "cell_type": "code",
      "metadata": {
        "id": "wp2r0zKadxj1",
        "colab_type": "code",
        "outputId": "3984f065-cc47-4289-c664-ea7bf9a1e309",
        "colab": {
          "base_uri": "https://localhost:8080/",
          "height": 34
        }
      },
      "source": [
        "df = h2o.import_file(file_name, header=1, sep=\",\")"
      ],
      "execution_count": 0,
      "outputs": [
        {
          "output_type": "stream",
          "text": [
            "Parse progress: |█████████████████████████████████████████████████████████| 100%\n"
          ],
          "name": "stdout"
        }
      ]
    },
    {
      "cell_type": "code",
      "metadata": {
        "id": "uoVrEPyJeH10",
        "colab_type": "code",
        "colab": {}
      },
      "source": [
        "df = df[[col_name]].ascharacter()"
      ],
      "execution_count": 0,
      "outputs": []
    },
    {
      "cell_type": "code",
      "metadata": {
        "id": "YJ4AsnwKeJz1",
        "colab_type": "code",
        "outputId": "c93de8cf-4db6-40d9-c72a-97142e53be62",
        "colab": {
          "base_uri": "https://localhost:8080/",
          "height": 250
        }
      },
      "source": [
        "df"
      ],
      "execution_count": 0,
      "outputs": [
        {
          "output_type": "display_data",
          "data": {
            "text/html": [
              "<table>\n",
              "<thead>\n",
              "<tr><th>text                                                                                                                                 </th></tr>\n",
              "</thead>\n",
              "<tbody>\n",
              "<tr><td>Just happened a terrible car crash                                                                                                   </td></tr>\n",
              "<tr><td>Our Deeds are the Reason of this #earthquake May ALLAH Forgive us all                                                                </td></tr>\n",
              "<tr><td>Heard about #earthquake is different cities, stay safe everyone.                                                                     </td></tr>\n",
              "<tr><td>there is a forest fire at spot pond, geese are fleeing across the street, I cannot save them all                                     </td></tr>\n",
              "<tr><td>Forest fire near La Ronge Sask. Canada                                                                                               </td></tr>\n",
              "<tr><td>All residents asked to 'shelter in place' are being notified by officers. No other evacuation or shelter in place orders are expected</td></tr>\n",
              "<tr><td>13,000 people receive #wildfires evacuation orders in California                                                                     </td></tr>\n",
              "<tr><td>Just got sent this photo from Ruby #Alaska as smoke from #wildfires pours into a school                                              </td></tr>\n",
              "<tr><td>#RockyFire Update => California Hwy. 20 closed in both directions due to Lake County fire - #CAfire #wildfires                       </td></tr>\n",
              "<tr><td>Apocalypse lighting. #Spokane #wildfires                                                                                             </td></tr>\n",
              "</tbody>\n",
              "</table>"
            ]
          },
          "metadata": {
            "tags": []
          }
        },
        {
          "output_type": "execute_result",
          "data": {
            "text/plain": [
              ""
            ]
          },
          "metadata": {
            "tags": []
          },
          "execution_count": 9
        }
      ]
    },
    {
      "cell_type": "markdown",
      "metadata": {
        "id": "R-JK5VaOfuph",
        "colab_type": "text"
      },
      "source": [
        "### Tokenization"
      ]
    },
    {
      "cell_type": "code",
      "metadata": {
        "id": "PK_KzHHWeSEy",
        "colab_type": "code",
        "colab": {}
      },
      "source": [
        "def tokenize(sentences):\n",
        "    # tokenize the sentences\n",
        "    tokenized = sentences.tokenize(\"\\\\W+\")\n",
        "    # lower case the text column\n",
        "    tokenized = tokenized.tolower()\n",
        "    # filter out the sentences which has less than 2 characters or where text is missing\n",
        "    tokenized = tokenized[(tokenized.nchar() >= 2) | (tokenized.isna()),:]\n",
        "    return tokenized\n",
        "\n",
        "words = tokenize(df[col_name])"
      ],
      "execution_count": 0,
      "outputs": []
    },
    {
      "cell_type": "markdown",
      "metadata": {
        "id": "9rRO4u6pgRd_",
        "colab_type": "text"
      },
      "source": [
        "### Word2Vec Model"
      ]
    },
    {
      "cell_type": "markdown",
      "metadata": {
        "id": "_D2MzujrgqzI",
        "colab_type": "text"
      },
      "source": [
        "The next step is to build the word2vec model. We can also adjust the parameters of the word2vec mdoel. Please refer to the [documentation of H2oWord2vecEstimator](http://docs.h2o.ai/h2o/latest-stable/h2o-py/docs/modeling.html#h2oword2vecestimator) for more details on the parameters."
      ]
    },
    {
      "cell_type": "code",
      "metadata": {
        "id": "dgyM4gyoebM0",
        "colab_type": "code",
        "outputId": "74906a0c-8e64-40cf-c4b9-490e538df4f6",
        "colab": {
          "base_uri": "https://localhost:8080/",
          "height": 51
        }
      },
      "source": [
        "print(\"Build word2vec model\")\n",
        "w2v_model = H2OWord2vecEstimator(min_word_freq=3,\n",
        "                                 vec_size=300,\n",
        "                                 window_size=5,\n",
        "                                 epochs=10,\n",
        "                                 word_model=\"skip_gram\")\n",
        "w2v_model.train(training_frame=words)"
      ],
      "execution_count": 0,
      "outputs": [
        {
          "output_type": "stream",
          "text": [
            "Build word2vec model\n",
            "word2vec Model Build progress: |██████████████████████████████████████████| 100%\n"
          ],
          "name": "stdout"
        }
      ]
    },
    {
      "cell_type": "code",
      "metadata": {
        "id": "d9JjwwWwegEH",
        "colab_type": "code",
        "colab": {}
      },
      "source": [
        "w2v_model.to_frame().as_data_frame().to_csv(data_path + \"w2vec.txt\", float_format='%.6f', sep=\" \", header=False, index=False)"
      ],
      "execution_count": 0,
      "outputs": []
    },
    {
      "cell_type": "code",
      "metadata": {
        "id": "IAdsteS4e2G8",
        "colab_type": "code",
        "outputId": "b7f08c20-e248-438f-bd62-8e2f99fab1bc",
        "colab": {
          "base_uri": "https://localhost:8080/",
          "height": 253
        }
      },
      "source": [
        "w2v_model.to_frame().as_data_frame().head()"
      ],
      "execution_count": 0,
      "outputs": [
        {
          "output_type": "execute_result",
          "data": {
            "text/html": [
              "<div>\n",
              "<style scoped>\n",
              "    .dataframe tbody tr th:only-of-type {\n",
              "        vertical-align: middle;\n",
              "    }\n",
              "\n",
              "    .dataframe tbody tr th {\n",
              "        vertical-align: top;\n",
              "    }\n",
              "\n",
              "    .dataframe thead th {\n",
              "        text-align: right;\n",
              "    }\n",
              "</style>\n",
              "<table border=\"1\" class=\"dataframe\">\n",
              "  <thead>\n",
              "    <tr style=\"text-align: right;\">\n",
              "      <th></th>\n",
              "      <th>Word</th>\n",
              "      <th>V1</th>\n",
              "      <th>V2</th>\n",
              "      <th>V3</th>\n",
              "      <th>V4</th>\n",
              "      <th>V5</th>\n",
              "      <th>V6</th>\n",
              "      <th>V7</th>\n",
              "      <th>V8</th>\n",
              "      <th>V9</th>\n",
              "      <th>V10</th>\n",
              "      <th>V11</th>\n",
              "      <th>V12</th>\n",
              "      <th>V13</th>\n",
              "      <th>V14</th>\n",
              "      <th>V15</th>\n",
              "      <th>V16</th>\n",
              "      <th>V17</th>\n",
              "      <th>V18</th>\n",
              "      <th>V19</th>\n",
              "      <th>V20</th>\n",
              "      <th>V21</th>\n",
              "      <th>V22</th>\n",
              "      <th>V23</th>\n",
              "      <th>V24</th>\n",
              "      <th>V25</th>\n",
              "      <th>V26</th>\n",
              "      <th>V27</th>\n",
              "      <th>V28</th>\n",
              "      <th>V29</th>\n",
              "      <th>V30</th>\n",
              "      <th>V31</th>\n",
              "      <th>V32</th>\n",
              "      <th>V33</th>\n",
              "      <th>V34</th>\n",
              "      <th>V35</th>\n",
              "      <th>V36</th>\n",
              "      <th>V37</th>\n",
              "      <th>V38</th>\n",
              "      <th>V39</th>\n",
              "      <th>...</th>\n",
              "      <th>V261</th>\n",
              "      <th>V262</th>\n",
              "      <th>V263</th>\n",
              "      <th>V264</th>\n",
              "      <th>V265</th>\n",
              "      <th>V266</th>\n",
              "      <th>V267</th>\n",
              "      <th>V268</th>\n",
              "      <th>V269</th>\n",
              "      <th>V270</th>\n",
              "      <th>V271</th>\n",
              "      <th>V272</th>\n",
              "      <th>V273</th>\n",
              "      <th>V274</th>\n",
              "      <th>V275</th>\n",
              "      <th>V276</th>\n",
              "      <th>V277</th>\n",
              "      <th>V278</th>\n",
              "      <th>V279</th>\n",
              "      <th>V280</th>\n",
              "      <th>V281</th>\n",
              "      <th>V282</th>\n",
              "      <th>V283</th>\n",
              "      <th>V284</th>\n",
              "      <th>V285</th>\n",
              "      <th>V286</th>\n",
              "      <th>V287</th>\n",
              "      <th>V288</th>\n",
              "      <th>V289</th>\n",
              "      <th>V290</th>\n",
              "      <th>V291</th>\n",
              "      <th>V292</th>\n",
              "      <th>V293</th>\n",
              "      <th>V294</th>\n",
              "      <th>V295</th>\n",
              "      <th>V296</th>\n",
              "      <th>V297</th>\n",
              "      <th>V298</th>\n",
              "      <th>V299</th>\n",
              "      <th>V300</th>\n",
              "    </tr>\n",
              "  </thead>\n",
              "  <tbody>\n",
              "    <tr>\n",
              "      <th>0</th>\n",
              "      <td>raw</td>\n",
              "      <td>0.079444</td>\n",
              "      <td>0.093110</td>\n",
              "      <td>0.034768</td>\n",
              "      <td>0.010234</td>\n",
              "      <td>0.074323</td>\n",
              "      <td>0.032686</td>\n",
              "      <td>-0.104307</td>\n",
              "      <td>0.009156</td>\n",
              "      <td>0.163026</td>\n",
              "      <td>-0.083421</td>\n",
              "      <td>-0.008091</td>\n",
              "      <td>-0.013459</td>\n",
              "      <td>-0.081597</td>\n",
              "      <td>0.022943</td>\n",
              "      <td>0.112029</td>\n",
              "      <td>-0.086098</td>\n",
              "      <td>0.000531</td>\n",
              "      <td>0.062078</td>\n",
              "      <td>-0.023701</td>\n",
              "      <td>0.072399</td>\n",
              "      <td>0.058407</td>\n",
              "      <td>0.165790</td>\n",
              "      <td>-0.033303</td>\n",
              "      <td>0.034051</td>\n",
              "      <td>-0.014061</td>\n",
              "      <td>-0.252406</td>\n",
              "      <td>0.024421</td>\n",
              "      <td>-0.236130</td>\n",
              "      <td>0.054420</td>\n",
              "      <td>-0.078156</td>\n",
              "      <td>-0.101891</td>\n",
              "      <td>-0.009711</td>\n",
              "      <td>-0.123936</td>\n",
              "      <td>0.075986</td>\n",
              "      <td>0.111765</td>\n",
              "      <td>-0.026073</td>\n",
              "      <td>0.073905</td>\n",
              "      <td>0.087416</td>\n",
              "      <td>-0.131131</td>\n",
              "      <td>...</td>\n",
              "      <td>-0.113861</td>\n",
              "      <td>0.027511</td>\n",
              "      <td>0.057393</td>\n",
              "      <td>-0.064332</td>\n",
              "      <td>-0.184280</td>\n",
              "      <td>-0.048194</td>\n",
              "      <td>-0.071549</td>\n",
              "      <td>-0.120024</td>\n",
              "      <td>-0.193569</td>\n",
              "      <td>0.114609</td>\n",
              "      <td>-0.059336</td>\n",
              "      <td>0.086683</td>\n",
              "      <td>0.072594</td>\n",
              "      <td>0.040357</td>\n",
              "      <td>-0.020176</td>\n",
              "      <td>-0.114048</td>\n",
              "      <td>-0.117249</td>\n",
              "      <td>-0.091184</td>\n",
              "      <td>0.135161</td>\n",
              "      <td>0.075102</td>\n",
              "      <td>0.009249</td>\n",
              "      <td>-0.137748</td>\n",
              "      <td>-0.023941</td>\n",
              "      <td>0.015440</td>\n",
              "      <td>-0.156949</td>\n",
              "      <td>0.005079</td>\n",
              "      <td>0.106412</td>\n",
              "      <td>0.084194</td>\n",
              "      <td>-0.001251</td>\n",
              "      <td>0.124868</td>\n",
              "      <td>0.049862</td>\n",
              "      <td>0.102021</td>\n",
              "      <td>0.008159</td>\n",
              "      <td>-0.163186</td>\n",
              "      <td>-0.287354</td>\n",
              "      <td>0.158501</td>\n",
              "      <td>0.048454</td>\n",
              "      <td>0.069939</td>\n",
              "      <td>0.138541</td>\n",
              "      <td>0.090188</td>\n",
              "    </tr>\n",
              "    <tr>\n",
              "      <th>1</th>\n",
              "      <td>ye</td>\n",
              "      <td>0.131668</td>\n",
              "      <td>0.041584</td>\n",
              "      <td>-0.025391</td>\n",
              "      <td>-0.017545</td>\n",
              "      <td>0.060882</td>\n",
              "      <td>-0.006810</td>\n",
              "      <td>-0.012733</td>\n",
              "      <td>-0.024944</td>\n",
              "      <td>0.100231</td>\n",
              "      <td>-0.038912</td>\n",
              "      <td>-0.143685</td>\n",
              "      <td>-0.002235</td>\n",
              "      <td>-0.044242</td>\n",
              "      <td>0.037241</td>\n",
              "      <td>-0.121083</td>\n",
              "      <td>0.004897</td>\n",
              "      <td>-0.060071</td>\n",
              "      <td>-0.060219</td>\n",
              "      <td>0.138772</td>\n",
              "      <td>-0.011019</td>\n",
              "      <td>0.077987</td>\n",
              "      <td>0.120597</td>\n",
              "      <td>-0.170680</td>\n",
              "      <td>0.103392</td>\n",
              "      <td>-0.045546</td>\n",
              "      <td>0.098658</td>\n",
              "      <td>-0.080290</td>\n",
              "      <td>-0.169892</td>\n",
              "      <td>0.047348</td>\n",
              "      <td>0.004033</td>\n",
              "      <td>-0.123169</td>\n",
              "      <td>0.056839</td>\n",
              "      <td>0.058239</td>\n",
              "      <td>-0.073453</td>\n",
              "      <td>0.221603</td>\n",
              "      <td>0.102738</td>\n",
              "      <td>-0.067367</td>\n",
              "      <td>-0.056070</td>\n",
              "      <td>-0.025048</td>\n",
              "      <td>...</td>\n",
              "      <td>-0.057124</td>\n",
              "      <td>0.025673</td>\n",
              "      <td>-0.047504</td>\n",
              "      <td>0.012523</td>\n",
              "      <td>-0.023397</td>\n",
              "      <td>-0.146573</td>\n",
              "      <td>-0.112593</td>\n",
              "      <td>-0.051972</td>\n",
              "      <td>-0.015044</td>\n",
              "      <td>0.037370</td>\n",
              "      <td>-0.168326</td>\n",
              "      <td>0.028413</td>\n",
              "      <td>-0.153810</td>\n",
              "      <td>-0.040679</td>\n",
              "      <td>0.018243</td>\n",
              "      <td>-0.197635</td>\n",
              "      <td>0.043771</td>\n",
              "      <td>0.119580</td>\n",
              "      <td>0.026226</td>\n",
              "      <td>0.072028</td>\n",
              "      <td>-0.075010</td>\n",
              "      <td>0.064485</td>\n",
              "      <td>0.023471</td>\n",
              "      <td>-0.078052</td>\n",
              "      <td>-0.093717</td>\n",
              "      <td>0.189189</td>\n",
              "      <td>0.222901</td>\n",
              "      <td>0.189139</td>\n",
              "      <td>0.158197</td>\n",
              "      <td>0.210296</td>\n",
              "      <td>-0.146494</td>\n",
              "      <td>-0.054572</td>\n",
              "      <td>0.077473</td>\n",
              "      <td>0.102514</td>\n",
              "      <td>0.018405</td>\n",
              "      <td>0.017132</td>\n",
              "      <td>0.163586</td>\n",
              "      <td>0.056901</td>\n",
              "      <td>0.041456</td>\n",
              "      <td>0.136590</td>\n",
              "    </tr>\n",
              "    <tr>\n",
              "      <th>2</th>\n",
              "      <td>therefore</td>\n",
              "      <td>0.009920</td>\n",
              "      <td>-0.057150</td>\n",
              "      <td>-0.043196</td>\n",
              "      <td>-0.049632</td>\n",
              "      <td>-0.018891</td>\n",
              "      <td>0.061795</td>\n",
              "      <td>-0.028184</td>\n",
              "      <td>-0.206557</td>\n",
              "      <td>0.138644</td>\n",
              "      <td>-0.074551</td>\n",
              "      <td>0.102299</td>\n",
              "      <td>-0.101645</td>\n",
              "      <td>-0.117659</td>\n",
              "      <td>0.014261</td>\n",
              "      <td>-0.122883</td>\n",
              "      <td>0.007799</td>\n",
              "      <td>0.116477</td>\n",
              "      <td>-0.136648</td>\n",
              "      <td>-0.102615</td>\n",
              "      <td>-0.060173</td>\n",
              "      <td>0.065940</td>\n",
              "      <td>0.019577</td>\n",
              "      <td>0.073943</td>\n",
              "      <td>0.021793</td>\n",
              "      <td>0.004111</td>\n",
              "      <td>-0.154087</td>\n",
              "      <td>-0.044217</td>\n",
              "      <td>0.027580</td>\n",
              "      <td>-0.074014</td>\n",
              "      <td>0.052530</td>\n",
              "      <td>-0.007895</td>\n",
              "      <td>0.151458</td>\n",
              "      <td>-0.104271</td>\n",
              "      <td>-0.032785</td>\n",
              "      <td>0.032494</td>\n",
              "      <td>0.072682</td>\n",
              "      <td>0.000726</td>\n",
              "      <td>-0.071978</td>\n",
              "      <td>-0.097731</td>\n",
              "      <td>...</td>\n",
              "      <td>-0.118544</td>\n",
              "      <td>0.011496</td>\n",
              "      <td>-0.036489</td>\n",
              "      <td>0.145100</td>\n",
              "      <td>0.065969</td>\n",
              "      <td>-0.100366</td>\n",
              "      <td>-0.178530</td>\n",
              "      <td>-0.076942</td>\n",
              "      <td>0.022023</td>\n",
              "      <td>-0.091009</td>\n",
              "      <td>-0.001274</td>\n",
              "      <td>0.023554</td>\n",
              "      <td>-0.124641</td>\n",
              "      <td>-0.037965</td>\n",
              "      <td>-0.073606</td>\n",
              "      <td>-0.051614</td>\n",
              "      <td>0.158334</td>\n",
              "      <td>0.090684</td>\n",
              "      <td>-0.044498</td>\n",
              "      <td>0.185193</td>\n",
              "      <td>-0.054364</td>\n",
              "      <td>-0.000364</td>\n",
              "      <td>-0.033463</td>\n",
              "      <td>-0.045963</td>\n",
              "      <td>-0.036176</td>\n",
              "      <td>-0.000563</td>\n",
              "      <td>0.056981</td>\n",
              "      <td>0.067183</td>\n",
              "      <td>0.222455</td>\n",
              "      <td>-0.004403</td>\n",
              "      <td>-0.068266</td>\n",
              "      <td>0.049223</td>\n",
              "      <td>0.182952</td>\n",
              "      <td>0.023493</td>\n",
              "      <td>-0.065389</td>\n",
              "      <td>0.109215</td>\n",
              "      <td>0.070019</td>\n",
              "      <td>0.058927</td>\n",
              "      <td>-0.013969</td>\n",
              "      <td>0.007419</td>\n",
              "    </tr>\n",
              "    <tr>\n",
              "      <th>3</th>\n",
              "      <td>golan</td>\n",
              "      <td>-0.031720</td>\n",
              "      <td>-0.279020</td>\n",
              "      <td>-0.129370</td>\n",
              "      <td>-0.131776</td>\n",
              "      <td>-0.098221</td>\n",
              "      <td>-0.011754</td>\n",
              "      <td>-0.074456</td>\n",
              "      <td>-0.031258</td>\n",
              "      <td>0.253173</td>\n",
              "      <td>0.009621</td>\n",
              "      <td>0.005261</td>\n",
              "      <td>-0.076342</td>\n",
              "      <td>-0.036331</td>\n",
              "      <td>0.160958</td>\n",
              "      <td>0.022501</td>\n",
              "      <td>-0.010773</td>\n",
              "      <td>-0.176208</td>\n",
              "      <td>0.047474</td>\n",
              "      <td>0.099284</td>\n",
              "      <td>-0.113808</td>\n",
              "      <td>-0.055190</td>\n",
              "      <td>0.067126</td>\n",
              "      <td>0.286171</td>\n",
              "      <td>0.099151</td>\n",
              "      <td>0.087439</td>\n",
              "      <td>-0.201981</td>\n",
              "      <td>-0.046615</td>\n",
              "      <td>-0.163119</td>\n",
              "      <td>0.083000</td>\n",
              "      <td>0.113521</td>\n",
              "      <td>-0.147437</td>\n",
              "      <td>0.056449</td>\n",
              "      <td>-0.059407</td>\n",
              "      <td>-0.022723</td>\n",
              "      <td>-0.104497</td>\n",
              "      <td>0.001438</td>\n",
              "      <td>-0.126024</td>\n",
              "      <td>-0.008641</td>\n",
              "      <td>-0.212521</td>\n",
              "      <td>...</td>\n",
              "      <td>-0.364419</td>\n",
              "      <td>-0.009586</td>\n",
              "      <td>-0.148458</td>\n",
              "      <td>0.242190</td>\n",
              "      <td>-0.153027</td>\n",
              "      <td>0.116846</td>\n",
              "      <td>-0.175072</td>\n",
              "      <td>-0.266199</td>\n",
              "      <td>-0.102560</td>\n",
              "      <td>-0.127115</td>\n",
              "      <td>-0.085944</td>\n",
              "      <td>-0.120678</td>\n",
              "      <td>0.106273</td>\n",
              "      <td>-0.137091</td>\n",
              "      <td>-0.315652</td>\n",
              "      <td>-0.006452</td>\n",
              "      <td>-0.292274</td>\n",
              "      <td>0.090369</td>\n",
              "      <td>0.211562</td>\n",
              "      <td>0.202805</td>\n",
              "      <td>0.076336</td>\n",
              "      <td>0.067323</td>\n",
              "      <td>-0.390901</td>\n",
              "      <td>0.228834</td>\n",
              "      <td>-0.151191</td>\n",
              "      <td>0.409750</td>\n",
              "      <td>-0.070225</td>\n",
              "      <td>-0.137520</td>\n",
              "      <td>-0.117254</td>\n",
              "      <td>0.027920</td>\n",
              "      <td>-0.084532</td>\n",
              "      <td>0.060691</td>\n",
              "      <td>0.074852</td>\n",
              "      <td>0.015463</td>\n",
              "      <td>-0.097874</td>\n",
              "      <td>0.266472</td>\n",
              "      <td>0.019585</td>\n",
              "      <td>-0.016301</td>\n",
              "      <td>-0.112680</td>\n",
              "      <td>0.082549</td>\n",
              "    </tr>\n",
              "    <tr>\n",
              "      <th>4</th>\n",
              "      <td>jailed</td>\n",
              "      <td>0.025730</td>\n",
              "      <td>0.070001</td>\n",
              "      <td>0.038100</td>\n",
              "      <td>-0.097845</td>\n",
              "      <td>0.016363</td>\n",
              "      <td>0.042186</td>\n",
              "      <td>0.001034</td>\n",
              "      <td>0.021435</td>\n",
              "      <td>0.063607</td>\n",
              "      <td>-0.054940</td>\n",
              "      <td>-0.002456</td>\n",
              "      <td>-0.091080</td>\n",
              "      <td>-0.063421</td>\n",
              "      <td>0.011765</td>\n",
              "      <td>-0.001709</td>\n",
              "      <td>0.030810</td>\n",
              "      <td>-0.052844</td>\n",
              "      <td>-0.093112</td>\n",
              "      <td>-0.002267</td>\n",
              "      <td>0.024529</td>\n",
              "      <td>-0.050082</td>\n",
              "      <td>0.032726</td>\n",
              "      <td>-0.101315</td>\n",
              "      <td>0.007227</td>\n",
              "      <td>0.043278</td>\n",
              "      <td>0.001448</td>\n",
              "      <td>0.104812</td>\n",
              "      <td>-0.107141</td>\n",
              "      <td>0.043511</td>\n",
              "      <td>-0.105729</td>\n",
              "      <td>-0.036581</td>\n",
              "      <td>0.038271</td>\n",
              "      <td>-0.035834</td>\n",
              "      <td>-0.083160</td>\n",
              "      <td>0.256695</td>\n",
              "      <td>-0.023400</td>\n",
              "      <td>0.081828</td>\n",
              "      <td>-0.141057</td>\n",
              "      <td>-0.080424</td>\n",
              "      <td>...</td>\n",
              "      <td>-0.065390</td>\n",
              "      <td>0.053610</td>\n",
              "      <td>0.000163</td>\n",
              "      <td>-0.026734</td>\n",
              "      <td>-0.103723</td>\n",
              "      <td>-0.066825</td>\n",
              "      <td>-0.018208</td>\n",
              "      <td>-0.046789</td>\n",
              "      <td>-0.053959</td>\n",
              "      <td>0.054094</td>\n",
              "      <td>-0.126286</td>\n",
              "      <td>0.088566</td>\n",
              "      <td>0.000916</td>\n",
              "      <td>0.173437</td>\n",
              "      <td>0.037724</td>\n",
              "      <td>-0.147377</td>\n",
              "      <td>-0.011931</td>\n",
              "      <td>0.022628</td>\n",
              "      <td>0.100234</td>\n",
              "      <td>0.045227</td>\n",
              "      <td>-0.079044</td>\n",
              "      <td>0.033397</td>\n",
              "      <td>0.049363</td>\n",
              "      <td>-0.068315</td>\n",
              "      <td>0.027321</td>\n",
              "      <td>0.057730</td>\n",
              "      <td>0.038750</td>\n",
              "      <td>0.060587</td>\n",
              "      <td>0.047154</td>\n",
              "      <td>-0.107002</td>\n",
              "      <td>-0.006602</td>\n",
              "      <td>0.058669</td>\n",
              "      <td>0.130060</td>\n",
              "      <td>0.020575</td>\n",
              "      <td>-0.148689</td>\n",
              "      <td>0.266923</td>\n",
              "      <td>-0.000815</td>\n",
              "      <td>0.003265</td>\n",
              "      <td>0.139044</td>\n",
              "      <td>0.188585</td>\n",
              "    </tr>\n",
              "  </tbody>\n",
              "</table>\n",
              "<p>5 rows × 301 columns</p>\n",
              "</div>"
            ],
            "text/plain": [
              "        Word        V1        V2  ...      V298      V299      V300\n",
              "0        raw  0.079444  0.093110  ...  0.069939  0.138541  0.090188\n",
              "1         ye  0.131668  0.041584  ...  0.056901  0.041456  0.136590\n",
              "2  therefore  0.009920 -0.057150  ...  0.058927 -0.013969  0.007419\n",
              "3      golan -0.031720 -0.279020  ... -0.016301 -0.112680  0.082549\n",
              "4     jailed  0.025730  0.070001  ...  0.003265  0.139044  0.188585\n",
              "\n",
              "[5 rows x 301 columns]"
            ]
          },
          "metadata": {
            "tags": []
          },
          "execution_count": 13
        }
      ]
    }
  ]
}