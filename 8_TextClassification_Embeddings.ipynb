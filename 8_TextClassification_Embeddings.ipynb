{
  "nbformat": 4,
  "nbformat_minor": 0,
  "metadata": {
    "colab": {
      "name": "8_TextClassification_Embeddings",
      "provenance": [],
      "collapsed_sections": [],
      "include_colab_link": true
    },
    "kernelspec": {
      "name": "python3",
      "display_name": "Python 3"
    },
    "accelerator": "GPU"
  },
  "cells": [
    {
      "cell_type": "markdown",
      "metadata": {
        "id": "view-in-github",
        "colab_type": "text"
      },
      "source": [
        "<a href=\"https://colab.research.google.com/github/VeereshShringari/NLP-DHS-SRK/blob/master/8_TextClassification_Embeddings.ipynb\" target=\"_parent\"><img src=\"https://colab.research.google.com/assets/colab-badge.svg\" alt=\"Open In Colab\"/></a>"
      ]
    },
    {
      "cell_type": "markdown",
      "metadata": {
        "id": "uhOfa2HjhvxS",
        "colab_type": "text"
      },
      "source": [
        "### Deep Learning Models using Word Embeddings"
      ]
    },
    {
      "cell_type": "code",
      "metadata": {
        "id": "SIN3RnUchnQU",
        "colab_type": "code",
        "outputId": "c152f80f-0a54-4ebb-f8cb-6080ed6a9101",
        "colab": {
          "base_uri": "https://localhost:8080/",
          "height": 121
        }
      },
      "source": [
        "from google.colab import drive\n",
        "drive.mount('/content/drive')"
      ],
      "execution_count": 4,
      "outputs": [
        {
          "output_type": "stream",
          "text": [
            "Go to this URL in a browser: https://accounts.google.com/o/oauth2/auth?client_id=947318989803-6bn6qk8qdgf4n4g3pfee6491hc0brc4i.apps.googleusercontent.com&redirect_uri=urn%3aietf%3awg%3aoauth%3a2.0%3aoob&response_type=code&scope=email%20https%3a%2f%2fwww.googleapis.com%2fauth%2fdocs.test%20https%3a%2f%2fwww.googleapis.com%2fauth%2fdrive%20https%3a%2f%2fwww.googleapis.com%2fauth%2fdrive.photos.readonly%20https%3a%2f%2fwww.googleapis.com%2fauth%2fpeopleapi.readonly\n",
            "\n",
            "Enter your authorization code:\n",
            "··········\n",
            "Mounted at /content/drive\n"
          ],
          "name": "stdout"
        }
      ]
    },
    {
      "cell_type": "code",
      "metadata": {
        "id": "du_4rcfYh3SB",
        "colab_type": "code",
        "colab": {}
      },
      "source": [
        "import numpy as np\n",
        "import pandas as pd\n",
        "from sklearn.feature_extraction.text import CountVectorizer, TfidfVectorizer\n",
        "from sklearn.model_selection import KFold"
      ],
      "execution_count": 0,
      "outputs": []
    },
    {
      "cell_type": "code",
      "metadata": {
        "id": "BCJCSrrtkabn",
        "colab_type": "code",
        "colab": {}
      },
      "source": [
        "from tensorflow.keras.preprocessing.text import Tokenizer\n",
        "from tensorflow.keras.preprocessing.sequence import pad_sequences\n",
        "from tensorflow.keras.layers import Dense, Input, LSTM, Embedding, Dropout, Activation, CuDNNGRU, Conv1D, GRU\n",
        "from tensorflow.keras.layers import Bidirectional, GlobalMaxPool1D\n",
        "from tensorflow.keras.models import Model\n",
        "from tensorflow.keras import initializers, regularizers, constraints, optimizers, layers"
      ],
      "execution_count": 0,
      "outputs": []
    },
    {
      "cell_type": "markdown",
      "metadata": {
        "id": "9exV10lfjIwW",
        "colab_type": "text"
      },
      "source": [
        "### Data Preparation"
      ]
    },
    {
      "cell_type": "code",
      "metadata": {
        "id": "59crBIw7jCN_",
        "colab_type": "code",
        "outputId": "be4b2d07-b66d-43ff-b190-5ef5358b3f07",
        "colab": {
          "base_uri": "https://localhost:8080/",
          "height": 198
        }
      },
      "source": [
        "data_path = \"/content/drive/My Drive/DHS2019_Workshop/Disaster/\"\n",
        "df = pd.read_csv(data_path + \"socialmedia_disaster_tweets.csv\", encoding='iso-8859-1')\n",
        "# we are proving is label is releavant\n",
        "df = df[[\"choose_one\", \"text\"]]\n",
        "df.columns = [\"label\", \"text\"]\n",
        "df = df[df[\"label\"].isin([\"Relevant\", \"Not Relevant\"])].reset_index(drop=True)\n",
        "df.head()"
      ],
      "execution_count": 6,
      "outputs": [
        {
          "output_type": "execute_result",
          "data": {
            "text/html": [
              "<div>\n",
              "<style scoped>\n",
              "    .dataframe tbody tr th:only-of-type {\n",
              "        vertical-align: middle;\n",
              "    }\n",
              "\n",
              "    .dataframe tbody tr th {\n",
              "        vertical-align: top;\n",
              "    }\n",
              "\n",
              "    .dataframe thead th {\n",
              "        text-align: right;\n",
              "    }\n",
              "</style>\n",
              "<table border=\"1\" class=\"dataframe\">\n",
              "  <thead>\n",
              "    <tr style=\"text-align: right;\">\n",
              "      <th></th>\n",
              "      <th>label</th>\n",
              "      <th>text</th>\n",
              "    </tr>\n",
              "  </thead>\n",
              "  <tbody>\n",
              "    <tr>\n",
              "      <th>0</th>\n",
              "      <td>Relevant</td>\n",
              "      <td>Just happened a terrible car crash</td>\n",
              "    </tr>\n",
              "    <tr>\n",
              "      <th>1</th>\n",
              "      <td>Relevant</td>\n",
              "      <td>Our Deeds are the Reason of this #earthquake M...</td>\n",
              "    </tr>\n",
              "    <tr>\n",
              "      <th>2</th>\n",
              "      <td>Relevant</td>\n",
              "      <td>Heard about #earthquake is different cities, s...</td>\n",
              "    </tr>\n",
              "    <tr>\n",
              "      <th>3</th>\n",
              "      <td>Relevant</td>\n",
              "      <td>there is a forest fire at spot pond, geese are...</td>\n",
              "    </tr>\n",
              "    <tr>\n",
              "      <th>4</th>\n",
              "      <td>Relevant</td>\n",
              "      <td>Forest fire near La Ronge Sask. Canada</td>\n",
              "    </tr>\n",
              "  </tbody>\n",
              "</table>\n",
              "</div>"
            ],
            "text/plain": [
              "      label                                               text\n",
              "0  Relevant                 Just happened a terrible car crash\n",
              "1  Relevant  Our Deeds are the Reason of this #earthquake M...\n",
              "2  Relevant  Heard about #earthquake is different cities, s...\n",
              "3  Relevant  there is a forest fire at spot pond, geese are...\n",
              "4  Relevant             Forest fire near La Ronge Sask. Canada"
            ]
          },
          "metadata": {
            "tags": []
          },
          "execution_count": 6
        }
      ]
    },
    {
      "cell_type": "markdown",
      "metadata": {
        "id": "xGt8DKnAkp67",
        "colab_type": "text"
      },
      "source": [
        "### Tokenization"
      ]
    },
    {
      "cell_type": "code",
      "metadata": {
        "id": "dM7ErehujGzY",
        "colab_type": "code",
        "colab": {}
      },
      "source": [
        "## some config values \n",
        "# we use without pre-trained embeddings\n",
        "embed_size = 300 # how big is each word vector\n",
        "max_features = 50000 # how many unique words to use (i.e num rows in embedding vector)\n",
        "maxlen = 100 # max number of words in a question to use\n",
        "#small text is 20 -30 otherwise 95% percentile \n",
        "\n",
        "## fill up the missing values\n",
        "X = df[\"text\"].astype(str).fillna(\"_na_\").values\n",
        "\n",
        "## Tokenize the sentences\n",
        "tokenizer = Tokenizer(num_words=max_features, oov_token='<UNK>')\n",
        "tokenizer.fit_on_texts(list(X))\n",
        "X = tokenizer.texts_to_sequences(X)\n",
        "\n",
        "## Pad the sentences \n",
        "X = pad_sequences(X, maxlen=maxlen)"
      ],
      "execution_count": 0,
      "outputs": []
    },
    {
      "cell_type": "code",
      "metadata": {
        "id": "H4kea5k0tsfP",
        "colab_type": "code",
        "colab": {
          "base_uri": "https://localhost:8080/",
          "height": 135
        },
        "outputId": "ce015bc1-c6bf-492a-916d-a0a1c2e5d133"
      },
      "source": [
        "X\n"
      ],
      "execution_count": 11,
      "outputs": [
        {
          "output_type": "execute_result",
          "data": {
            "text/plain": [
              "array([[    0,     0,     0, ...,  1516,   132,    97],\n",
              "       [    0,     0,     0, ...,  3840,    89,    42],\n",
              "       [    0,     0,     0, ...,   651,  1517,   275],\n",
              "       ...,\n",
              "       [    0,     0,     0, ...,     2,     3, 29298],\n",
              "       [    0,     0,     0, ...,     2,     3,  8058],\n",
              "       [    0,     0,     0, ...,    76,   260,  3221]], dtype=int32)"
            ]
          },
          "metadata": {
            "tags": []
          },
          "execution_count": 11
        }
      ]
    },
    {
      "cell_type": "code",
      "metadata": {
        "id": "-jspz7kAlI1C",
        "colab_type": "code",
        "colab": {}
      },
      "source": [
        "label_map = {\"Not Relevant\":0, \"Relevant\":1}\n",
        "y = (df[\"label\"].map(label_map)).values"
      ],
      "execution_count": 0,
      "outputs": []
    },
    {
      "cell_type": "markdown",
      "metadata": {
        "id": "HRFykFzXx6jn",
        "colab_type": "text"
      },
      "source": [
        "### GPU Availability"
      ]
    },
    {
      "cell_type": "markdown",
      "metadata": {
        "id": "FMc_P3LHyHNh",
        "colab_type": "text"
      },
      "source": [
        "Setting up GPU Colab: https://colab.research.google.com/notebooks/gpu.ipynb"
      ]
    },
    {
      "cell_type": "code",
      "metadata": {
        "id": "coAYY78Xml0m",
        "colab_type": "code",
        "outputId": "563bc599-2789-4e4b-f693-a9b1c6d2e730",
        "colab": {
          "base_uri": "https://localhost:8080/",
          "height": 34
        }
      },
      "source": [
        "import tensorflow as tf\n",
        "device_name = tf.test.gpu_device_name()\n",
        "if device_name != '/device:GPU:0':\n",
        "  raise SystemError('GPU device not found')\n",
        "print('Found GPU at: {}'.format(device_name))"
      ],
      "execution_count": 10,
      "outputs": [
        {
          "output_type": "stream",
          "text": [
            "Found GPU at: /device:GPU:0\n"
          ],
          "name": "stdout"
        }
      ]
    },
    {
      "cell_type": "markdown",
      "metadata": {
        "id": "zFINFcYLyLo7",
        "colab_type": "text"
      },
      "source": [
        "### Model Function"
      ]
    },
    {
      "cell_type": "code",
      "metadata": {
        "id": "M5-rTxTClO7g",
        "colab_type": "code",
        "colab": {}
      },
      "source": [
        "def run_model(X, y, val_X, val_y, batch_size=128, n_epochs=1):\n",
        "  # GRU model has been used here RNN \n",
        "  inp = Input(shape=(maxlen,))\n",
        "  x = Embedding(max_features, embed_size)(inp)\n",
        "  # learning from the both direction\n",
        "  x = Bidirectional(CuDNNGRU(64, return_sequences=True))(x)\n",
        "\n",
        "  x = GlobalMaxPool1D()(x)\n",
        "  # This takes Maximum from the ten neurons used for next thing\n",
        "  x = Dense(16, activation=\"relu\")(x)\n",
        "  x = Dropout(0.1)(x)\n",
        "  x = Dense(1, activation=\"sigmoid\")(x)\n",
        "  model = Model(inputs=inp, outputs=x)\n",
        "  # since it is binary classification we use binary_crossentropy\n",
        "  model.compile(loss='binary_crossentropy', optimizer='adam', metrics=['accuracy'])\n",
        "  # batch size needs to be ptimised\n",
        "  model.fit(X, y, batch_size=batch_size, epochs=n_epochs, validation_data=(val_X, val_y))\n",
        "\n",
        "  pred_val_y = model.predict([val_X], batch_size=1024, verbose=1)\n",
        "\n",
        "  return model, pred_val_y"
      ],
      "execution_count": 0,
      "outputs": []
    },
    {
      "cell_type": "code",
      "metadata": {
        "id": "9KEdCz67leaq",
        "colab_type": "code",
        "outputId": "2ffb346b-051f-49da-8228-8d3317bdfb0e",
        "colab": {
          "base_uri": "https://localhost:8080/",
          "height": 596
        }
      },
      "source": [
        "kf = KFold(n_splits=5, shuffle=True, random_state=2019)\n",
        "cv_preds = np.zeros(X.shape[0])\n",
        "for dev_index, val_index in kf.split(X):\n",
        "    dev_X, val_X = X[dev_index,:], X[val_index,:]\n",
        "    dev_y, val_y = y[dev_index], y[val_index]\n",
        "\n",
        "    model, preds_val = run_model(dev_X, dev_y, val_X, val_y)\n",
        "    cv_preds[val_index] = preds_val.ravel()"
      ],
      "execution_count": 13,
      "outputs": [
        {
          "output_type": "stream",
          "text": [
            "WARNING:tensorflow:From /usr/local/lib/python3.6/dist-packages/tensorflow_core/python/keras/initializers.py:119: calling RandomUniform.__init__ (from tensorflow.python.ops.init_ops) with dtype is deprecated and will be removed in a future version.\n",
            "Instructions for updating:\n",
            "Call initializer instance with the dtype argument instead of passing it to the constructor\n",
            "WARNING:tensorflow:From /usr/local/lib/python3.6/dist-packages/tensorflow_core/python/ops/resource_variable_ops.py:1630: calling BaseResourceVariable.__init__ (from tensorflow.python.ops.resource_variable_ops) with constraint is deprecated and will be removed in a future version.\n",
            "Instructions for updating:\n",
            "If using Keras pass *_constraint arguments to layers.\n",
            "WARNING:tensorflow:From /usr/local/lib/python3.6/dist-packages/tensorflow_core/python/ops/init_ops.py:97: calling GlorotUniform.__init__ (from tensorflow.python.ops.init_ops) with dtype is deprecated and will be removed in a future version.\n",
            "Instructions for updating:\n",
            "Call initializer instance with the dtype argument instead of passing it to the constructor\n",
            "WARNING:tensorflow:From /usr/local/lib/python3.6/dist-packages/tensorflow_core/python/ops/init_ops.py:97: calling Orthogonal.__init__ (from tensorflow.python.ops.init_ops) with dtype is deprecated and will be removed in a future version.\n",
            "Instructions for updating:\n",
            "Call initializer instance with the dtype argument instead of passing it to the constructor\n",
            "WARNING:tensorflow:From /usr/local/lib/python3.6/dist-packages/tensorflow_core/python/ops/init_ops.py:97: calling Zeros.__init__ (from tensorflow.python.ops.init_ops) with dtype is deprecated and will be removed in a future version.\n",
            "Instructions for updating:\n",
            "Call initializer instance with the dtype argument instead of passing it to the constructor\n",
            "WARNING:tensorflow:From /usr/local/lib/python3.6/dist-packages/tensorflow_core/python/ops/nn_impl.py:183: where (from tensorflow.python.ops.array_ops) is deprecated and will be removed in a future version.\n",
            "Instructions for updating:\n",
            "Use tf.where in 2.0, which has the same broadcast rule as np.where\n",
            "Train on 8688 samples, validate on 2172 samples\n",
            "8688/8688 [==============================] - 11s 1ms/sample - loss: 0.5894 - acc: 0.6882 - val_loss: 0.4287 - val_acc: 0.8016\n",
            "2172/2172 [==============================] - 4s 2ms/sample\n",
            "Train on 8688 samples, validate on 2172 samples\n",
            "8688/8688 [==============================] - 2s 201us/sample - loss: 0.5952 - acc: 0.6769 - val_loss: 0.4617 - val_acc: 0.8039\n",
            "2172/2172 [==============================] - 0s 49us/sample\n",
            "Train on 8688 samples, validate on 2172 samples\n",
            "8688/8688 [==============================] - 2s 207us/sample - loss: 0.5905 - acc: 0.6895 - val_loss: 0.4557 - val_acc: 0.7873\n",
            "2172/2172 [==============================] - 0s 55us/sample\n",
            "Train on 8688 samples, validate on 2172 samples\n",
            "8688/8688 [==============================] - 2s 212us/sample - loss: 0.5867 - acc: 0.6926 - val_loss: 0.4309 - val_acc: 0.8080\n",
            "2172/2172 [==============================] - 0s 61us/sample\n",
            "Train on 8688 samples, validate on 2172 samples\n",
            "8688/8688 [==============================] - 2s 217us/sample - loss: 0.5795 - acc: 0.6938 - val_loss: 0.4276 - val_acc: 0.8163\n",
            "2172/2172 [==============================] - 0s 72us/sample\n"
          ],
          "name": "stdout"
        }
      ]
    },
    {
      "cell_type": "code",
      "metadata": {
        "id": "bWP09KrvlmG6",
        "colab_type": "code",
        "outputId": "92ee123f-1efc-4b26-ec65-a8fb516fe2d2",
        "colab": {
          "base_uri": "https://localhost:8080/",
          "height": 34
        }
      },
      "source": [
        "from sklearn import metrics\n",
        "metrics.roc_auc_score(y, cv_preds)"
      ],
      "execution_count": 14,
      "outputs": [
        {
          "output_type": "execute_result",
          "data": {
            "text/plain": [
              "0.8647377160320866"
            ]
          },
          "metadata": {
            "tags": []
          },
          "execution_count": 14
        }
      ]
    },
    {
      "cell_type": "code",
      "metadata": {
        "id": "QIgBh1Y70OSs",
        "colab_type": "code",
        "outputId": "47a9d64e-e7d0-4f45-c061-8ddddb081c7f",
        "colab": {
          "base_uri": "https://localhost:8080/",
          "height": 169
        }
      },
      "source": [
        "print(metrics.classification_report(y, (cv_preds>0.5)))"
      ],
      "execution_count": 15,
      "outputs": [
        {
          "output_type": "stream",
          "text": [
            "              precision    recall  f1-score   support\n",
            "\n",
            "           0       0.80      0.88      0.84      6187\n",
            "           1       0.81      0.71      0.76      4673\n",
            "\n",
            "    accuracy                           0.80     10860\n",
            "   macro avg       0.81      0.79      0.80     10860\n",
            "weighted avg       0.80      0.80      0.80     10860\n",
            "\n"
          ],
          "name": "stdout"
        }
      ]
    },
    {
      "cell_type": "markdown",
      "metadata": {
        "id": "1M_mRh1S2aWl",
        "colab_type": "text"
      },
      "source": [
        "### Pre-trained Embeddings"
      ]
    },
    {
      "cell_type": "code",
      "metadata": {
        "id": "XO2WW1M40Qxi",
        "colab_type": "code",
        "outputId": "fd26c46f-dcc9-49fb-acdd-a430b0e95c83",
        "colab": {
          "base_uri": "https://localhost:8080/",
          "height": 71
        }
      },
      "source": [
        "EMBEDDING_FILE = \"/content/drive/My Drive/DHS2019_Workshop/Disaster/w2vec.txt\" \n",
        "def get_coefs(word,*arr): return word, np.asarray(arr, dtype='float32')\n",
        "embeddings_index = dict(get_coefs(*o.split(\" \")) for o in open(EMBEDDING_FILE))\n",
        "\n",
        "all_embs = np.stack(embeddings_index.values())\n",
        "emb_mean,emb_std = all_embs.mean(), all_embs.std()\n",
        "embed_size = all_embs.shape[1]\n",
        "\n",
        "word_index = tokenizer.word_index\n",
        "nb_words = min(max_features, len(word_index))\n",
        "embedding_matrix = np.random.normal(emb_mean, emb_std, (nb_words, embed_size))\n",
        "for word, i in word_index.items():\n",
        "    if i >= max_features: continue\n",
        "    embedding_vector = embeddings_index.get(word)\n",
        "    if embedding_vector is not None: embedding_matrix[i] = embedding_vector"
      ],
      "execution_count": 0,
      "outputs": [
        {
          "output_type": "stream",
          "text": [
            "/usr/local/lib/python3.6/dist-packages/IPython/core/interactiveshell.py:2822: FutureWarning: arrays to stack must be passed as a \"sequence\" type such as list or tuple. Support for non-sequence iterables such as generators is deprecated as of NumPy 1.16 and will raise an error in the future.\n",
            "  if self.run_code(code, result):\n"
          ],
          "name": "stderr"
        }
      ]
    },
    {
      "cell_type": "code",
      "metadata": {
        "id": "e8PaumIB22TJ",
        "colab_type": "code",
        "colab": {}
      },
      "source": [
        "def run_model(X, y, val_X, val_y, batch_size=128, n_epochs=1):\n",
        "  inp = Input(shape=(maxlen,))\n",
        "  x = Embedding(embedding_matrix.shape[0], embed_size, weights=[embedding_matrix])(inp)\n",
        "  x = Bidirectional(CuDNNGRU(64, return_sequences=True))(x)\n",
        "  x = GlobalMaxPool1D()(x)\n",
        "  x = Dense(16, activation=\"relu\")(x)\n",
        "  x = Dropout(0.1)(x)\n",
        "  x = Dense(1, activation=\"sigmoid\")(x)\n",
        "  model = Model(inputs=inp, outputs=x)\n",
        "  model.compile(loss='binary_crossentropy', optimizer='adam', metrics=['accuracy'])\n",
        "\n",
        "  model.fit(X, y, batch_size=batch_size, epochs=n_epochs, validation_data=(val_X, val_y))\n",
        "\n",
        "  pred_val_y = model.predict([val_X], batch_size=1024, verbose=1)\n",
        "\n",
        "  return model, pred_val_y"
      ],
      "execution_count": 0,
      "outputs": []
    },
    {
      "cell_type": "code",
      "metadata": {
        "id": "ZcCvFerQ3A7I",
        "colab_type": "code",
        "outputId": "3528b571-d0df-4bec-fc73-da51b0be1515",
        "colab": {
          "base_uri": "https://localhost:8080/",
          "height": 272
        }
      },
      "source": [
        "kf = KFold(n_splits=5, shuffle=True, random_state=2019)\n",
        "cv_preds = np.zeros(X.shape[0])\n",
        "for dev_index, val_index in kf.split(X):\n",
        "    dev_X, val_X = X[dev_index,:], X[val_index,:]\n",
        "    dev_y, val_y = y[dev_index], y[val_index]\n",
        "\n",
        "    model, preds_val = run_model(dev_X, dev_y, val_X, val_y)\n",
        "    cv_preds[val_index] = preds_val.ravel()"
      ],
      "execution_count": 0,
      "outputs": [
        {
          "output_type": "stream",
          "text": [
            "Train on 8688 samples, validate on 2172 samples\n",
            "8688/8688 [==============================] - 6s 685us/sample - loss: 0.5261 - acc: 0.7522 - val_loss: 0.4358 - val_acc: 0.8048\n",
            "2172/2172 [==============================] - 1s 360us/sample\n",
            "Train on 8688 samples, validate on 2172 samples\n",
            "8688/8688 [==============================] - 6s 687us/sample - loss: 0.5305 - acc: 0.7396 - val_loss: 0.4481 - val_acc: 0.8043\n",
            "2172/2172 [==============================] - 1s 396us/sample\n",
            "Train on 8688 samples, validate on 2172 samples\n",
            "8688/8688 [==============================] - 6s 698us/sample - loss: 0.5266 - acc: 0.7433 - val_loss: 0.4519 - val_acc: 0.7873\n",
            "2172/2172 [==============================] - 1s 391us/sample\n",
            "Train on 8688 samples, validate on 2172 samples\n",
            "8688/8688 [==============================] - 6s 706us/sample - loss: 0.5373 - acc: 0.7331 - val_loss: 0.4471 - val_acc: 0.7983\n",
            "2172/2172 [==============================] - 1s 408us/sample\n",
            "Train on 8688 samples, validate on 2172 samples\n",
            "8688/8688 [==============================] - 6s 733us/sample - loss: 0.5276 - acc: 0.7465 - val_loss: 0.4435 - val_acc: 0.8011\n",
            "2172/2172 [==============================] - 1s 415us/sample\n"
          ],
          "name": "stdout"
        }
      ]
    },
    {
      "cell_type": "code",
      "metadata": {
        "id": "SJXehSmv3D1b",
        "colab_type": "code",
        "outputId": "9d726b5d-6a2e-4e3a-e675-39b7a91f5d7a",
        "colab": {
          "base_uri": "https://localhost:8080/",
          "height": 34
        }
      },
      "source": [
        "from sklearn import metrics\n",
        "metrics.roc_auc_score(y, cv_preds)"
      ],
      "execution_count": 0,
      "outputs": [
        {
          "output_type": "execute_result",
          "data": {
            "text/plain": [
              "0.8596032471252014"
            ]
          },
          "metadata": {
            "tags": []
          },
          "execution_count": 35
        }
      ]
    },
    {
      "cell_type": "code",
      "metadata": {
        "id": "OpSkZOLw3lYY",
        "colab_type": "code",
        "outputId": "5df3d584-d942-4cea-dc6e-775b6b7fe3c2",
        "colab": {
          "base_uri": "https://localhost:8080/",
          "height": 170
        }
      },
      "source": [
        "print(metrics.classification_report(y, (cv_preds>0.5)))"
      ],
      "execution_count": 0,
      "outputs": [
        {
          "output_type": "stream",
          "text": [
            "              precision    recall  f1-score   support\n",
            "\n",
            "           0       0.79      0.89      0.83      6187\n",
            "           1       0.82      0.68      0.75      4673\n",
            "\n",
            "    accuracy                           0.80     10860\n",
            "   macro avg       0.80      0.79      0.79     10860\n",
            "weighted avg       0.80      0.80      0.80     10860\n",
            "\n"
          ],
          "name": "stdout"
        }
      ]
    }
  ]
}